{
  "cells": [
    {
      "cell_type": "code",
      "execution_count": null,
      "metadata": {
        "id": "xGzWFRQtS4gD"
      },
      "outputs": [],
      "source": [
        "## Load the model"
      ]
    },
    {
      "cell_type": "code",
      "execution_count": null,
      "metadata": {
        "id": "n7vqWGfeS4gF",
        "outputId": "80fe09eb-d073-4929-97ba-121b4165aed2"
      },
      "outputs": [
        {
          "name": "stderr",
          "output_type": "stream",
          "text": [
            "Using TensorFlow backend.\n"
          ]
        },
        {
          "name": "stdout",
          "output_type": "stream",
          "text": [
            "Segmentation Models: using `keras` framework.\n"
          ]
        }
      ],
      "source": [
        "import sys\n",
        "import ast\n",
        "sys.path.append(\"..\")\n",
        "sys.path.append(\"../src\")\n",
        "\n",
        "import os\n",
        "# os.environ['CUDA_VISIBLE_DEVICES'] = '0'\n",
        "import cv2\n",
        "import keras\n",
        "import numpy as np\n",
        "import pandas as pd\n",
        "import matplotlib.pyplot as plt\n",
        "import segmentation_models as sm\n",
        "sm.set_framework('keras')\n",
        "import ad_seg_utils as seg_utils\n",
        "import bb_eval_utils as eval_utils\n",
        "import csv\n",
        "import math\n",
        "import albumentations as A"
      ]
    },
    {
      "cell_type": "code",
      "execution_count": null,
      "metadata": {
        "id": "-_fvGVDzS4gG"
      },
      "outputs": [],
      "source": [
        "SEGMENTATION = \"AD\"\n",
        "PERTURBATION = \"base\"\n",
        "print(\"Program initiating... type of segmentation: \" + SEGMENTATION + \", type of perturbation: \" + PERTURBATION)\n",
        "\n",
        "BIN_SEG = False\n",
        "CLASSES = ['background', 'skin']\n",
        "WEIGHTS = np.array([1, 1])\n",
        "target_idx = 1\n",
        "MODEL_NAME = '/skin_base_ce_bestOnly/base_skin_ce.h5'\n",
        "BACKBONE = 'efficientnetb3'\n",
        "preprocess_input = sm.get_preprocessing(BACKBONE)\n",
        "\n",
        "# set parameters based on the type of segmentation\n",
        "if SEGMENTATION == 'SKIN' or SEGMENTATION == 'skin':\n",
        "    pass\n",
        "elif SEGMENTATION == 'AD' or SEGMENTATION == 'ad':\n",
        "    BIN_SEG = False\n",
        "    target_idx = 2\n",
        "    CLASSES = ['background', 'skin', 'eczema']\n",
        "    WEIGHTS = np.array([1, 1, 1])\n",
        "    MODEL_NAME = '/ad_base_ce_bestOnly/base_ad_ce.h5'\n",
        "else:\n",
        "    print('Unexpected type of segmentation, should be either skin or ad\\n program terminated')\n",
        "\n",
        "\n",
        "\n",
        "\"\"\"# Model Evaluation\"\"\"\n",
        "# config PROJ_DIR according to your environment\n",
        "PROJ_DIR = \"/path_to_project_dir\"\n",
        "PRED_DIR = os.path.join(PROJ_DIR, 'output/predictions/' + \"test\")\n",
        "BB_DIR = os.path.join(PROJ_DIR, 'output/bounding_boxes')\n",
        "EVAL_DIR = os.path.join(PROJ_DIR, 'output/evaluations')\n",
        "MODEL_DIR = os.path.join(PROJ_DIR, 'output/models')\n",
        "DATA_DIR = os.path.join(PROJ_DIR, 'data')\n",
        "\n",
        "# new dataset\n",
        "x_test_dir = os.path.join(DATA_DIR, 'test_set/reals')\n",
        "y_test_dir = os.path.join(DATA_DIR, 'test_set/labels')\n",
        "\n",
        "print('reading test images from: ' + str(x_test_dir))\n",
        "print('reading test masks from: ' + str(y_test_dir))\n",
        "\n",
        "test_dataset = seg_utils.Dataset(\n",
        "    x_test_dir, \n",
        "    y_test_dir, \n",
        "    classes=CLASSES, \n",
        "    augmentation=None,\n",
        "    preprocessing=seg_utils.get_preprocessing(preprocess_input),\n",
        "    is_train=False,\n",
        "    use_full_resolution=False,\n",
        "    binary_seg=BIN_SEG,\n",
        ")\n",
        "eczema_dataset = seg_utils.Dataset(\n",
        "    x_test_dir, \n",
        "    y_test_dir, \n",
        "    classes=['background', 'skin', 'eczema'],\n",
        "    augmentation=None,\n",
        "    preprocessing=seg_utils.get_preprocessing(preprocess_input),\n",
        "    is_train=False,\n",
        "    use_full_resolution=False,\n",
        "    binary_seg=0,\n",
        ")\n",
        "\n",
        "\n",
        "model = seg_utils.load_model(dir=MODEL_DIR+MODEL_NAME, classes=CLASSES, weights=WEIGHTS)\n",
        "print('Trained model loaded!')"
      ]
    },
    {
      "cell_type": "markdown",
      "metadata": {
        "id": "GO70Yb_oS4gH"
      },
      "source": [
        "## Example to predict mask, generate box and produce square crops"
      ]
    },
    {
      "cell_type": "code",
      "execution_count": null,
      "metadata": {
        "id": "Skf4R9pzS4gI"
      },
      "outputs": [],
      "source": [
        "# %%time\n",
        "folder_dir = '/path_to_proj_dir/data/test_set/reals'\n",
        "fns = os.listdir(folder_dir)\n",
        "\n",
        "for file in fns[1:10]:\n",
        "    print(os.path.join(folder_dir, file))\n",
        "    seg_utils.run_sigle_pred(model, os.path.join(folder_dir, file), \"/path_to_proj_dir/output/predictions/test\", file, target_idx=target_idx, resize_ratio=0.4, preprocessing=seg_utils.get_preprocessing(preprocess_input), refno=\"0000\",visno=\"0\")\n"
      ]
    }
  ],
  "metadata": {
    "kernelspec": {
      "display_name": "EczemaNet Python Env: SEG_DL",
      "language": "python",
      "name": "seg_dl"
    },
    "language_info": {
      "codemirror_mode": {
        "name": "ipython",
        "version": 3
      },
      "file_extension": ".py",
      "mimetype": "text/x-python",
      "name": "python",
      "nbconvert_exporter": "python",
      "pygments_lexer": "ipython3",
      "version": "3.7.0"
    },
    "colab": {
      "provenance": []
    }
  },
  "nbformat": 4,
  "nbformat_minor": 0
}